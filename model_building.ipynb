{
 "cells": [
  {
   "cell_type": "code",
   "execution_count": 32,
   "metadata": {},
   "outputs": [],
   "source": [
    "import numpy as np\n",
    "import pandas as pd\n",
    "import matplotlib.pyplot as plt\n",
    "import string\n",
    "from nltk.stem import SnowballStemmer\n",
    "from nltk.corpus import stopwords\n",
    "from sklearn.feature_extraction.text import TfidfVectorizer\n",
    "from sklearn.model_selection import train_test_split\n",
    "import os\n",
    "from textblob import TextBlob\n",
    "from nltk.stem import PorterStemmer\n",
    "from textblob import Word\n",
    "from sklearn.feature_extraction.text import CountVectorizer,TfidfVectorizer\n",
    "import sklearn.feature_extraction.text as text\n",
    "from sklearn import model_selection, preprocessing, linear_model, naive_bayes, metrics, svm\n",
    "import seaborn as sns"
   ]
  },
  {
   "cell_type": "code",
   "execution_count": 4,
   "metadata": {},
   "outputs": [],
   "source": [
    "df= pd.read_pickle('df.pkl')"
   ]
  },
  {
   "cell_type": "code",
   "execution_count": 7,
   "metadata": {},
   "outputs": [
    {
     "data": {
      "text/html": [
       "<div>\n",
       "<style scoped>\n",
       "    .dataframe tbody tr th:only-of-type {\n",
       "        vertical-align: middle;\n",
       "    }\n",
       "\n",
       "    .dataframe tbody tr th {\n",
       "        vertical-align: top;\n",
       "    }\n",
       "\n",
       "    .dataframe thead th {\n",
       "        text-align: right;\n",
       "    }\n",
       "</style>\n",
       "<table border=\"1\" class=\"dataframe\">\n",
       "  <thead>\n",
       "    <tr style=\"text-align: right;\">\n",
       "      <th></th>\n",
       "      <th>label</th>\n",
       "      <th>text</th>\n",
       "      <th>lenght</th>\n",
       "    </tr>\n",
       "  </thead>\n",
       "  <tbody>\n",
       "    <tr>\n",
       "      <th>0</th>\n",
       "      <td>0</td>\n",
       "      <td>tim ferriss. extract valu never could. worth w...</td>\n",
       "      <td>122</td>\n",
       "    </tr>\n",
       "    <tr>\n",
       "      <th>2</th>\n",
       "      <td>0</td>\n",
       "      <td>tim ferriss rapidli evolv meta human/mutant/au...</td>\n",
       "      <td>398</td>\n",
       "    </tr>\n",
       "    <tr>\n",
       "      <th>3</th>\n",
       "      <td>0</td>\n",
       "      <td>anyth tim ferriss buy. podcast awesom book dis...</td>\n",
       "      <td>177</td>\n",
       "    </tr>\n",
       "    <tr>\n",
       "      <th>5</th>\n",
       "      <td>0</td>\n",
       "      <td>awesom practical!</td>\n",
       "      <td>22</td>\n",
       "    </tr>\n",
       "    <tr>\n",
       "      <th>6</th>\n",
       "      <td>0</td>\n",
       "      <td>incr book!</td>\n",
       "      <td>24</td>\n",
       "    </tr>\n",
       "  </tbody>\n",
       "</table>\n",
       "</div>"
      ],
      "text/plain": [
       "  label                                               text  lenght\n",
       "0     0  tim ferriss. extract valu never could. worth w...     122\n",
       "2     0  tim ferriss rapidli evolv meta human/mutant/au...     398\n",
       "3     0  anyth tim ferriss buy. podcast awesom book dis...     177\n",
       "5     0                                  awesom practical!      22\n",
       "6     0                                         incr book!      24"
      ]
     },
     "execution_count": 7,
     "metadata": {},
     "output_type": "execute_result"
    }
   ],
   "source": [
    "#pre processing steps like lower case, stemming and lemmatization\n",
    "df['text'] = df['text'].apply(lambda x:\" \".join(x.lower() for x in x.split()))\n",
    "stop = stopwords.words('english')\n",
    "df['text'] = df['text'].apply(lambda x: \" \".join(x for x in x.split() if x not in stop))\n",
    "st = PorterStemmer()\n",
    "df['text'] = df['text'].apply(lambda x: \" \".join([st.stem(word) for word in x.split()]))\n",
    "df['text'] = df['text'].apply(lambda x: \" \".join([Word(word).lemmatize() for word in x.split()]))\n",
    "df.head()"
   ]
  },
  {
   "cell_type": "code",
   "execution_count": 9,
   "metadata": {},
   "outputs": [],
   "source": [
    "#Splitting data into train and validation\n",
    "train_x, valid_x, train_y, valid_y = model_selection.train_test_split(df['text'], df['label'])"
   ]
  },
  {
   "cell_type": "code",
   "execution_count": 17,
   "metadata": {},
   "outputs": [
    {
     "data": {
      "text/plain": [
       "14929"
      ]
     },
     "execution_count": 17,
     "metadata": {},
     "output_type": "execute_result"
    }
   ],
   "source": [
    "len(valid_y)"
   ]
  },
  {
   "cell_type": "code",
   "execution_count": 48,
   "metadata": {},
   "outputs": [
    {
     "data": {
      "text/plain": [
       "array([0.76533388, 0.64363347, 0.1378585 , ..., 0.82274565, 0.83738611,\n",
       "       0.54661184])"
      ]
     },
     "execution_count": 48,
     "metadata": {},
     "output_type": "execute_result"
    }
   ],
   "source": [
    "# TFIDF feature generation \n",
    "#encoder = preprocessing.LabelEncoder()\n",
    "#train_y = encoder.fit_transform(train_y)\n",
    "#valid_y = encoder.fit_transform(valid_y)\n",
    "tfidf_vect = TfidfVectorizer(analyzer='word',token_pattern=r'\\w{1,}')\n",
    "tfidf_vect.fit(df['text'])\n",
    "xtrain_tfidf = tfidf_vect.transform(train_x)\n",
    "xvalid_tfidf = tfidf_vect.transform(valid_x)\n",
    "xtrain_tfidf.data"
   ]
  },
  {
   "cell_type": "code",
   "execution_count": 49,
   "metadata": {},
   "outputs": [
    {
     "data": {
      "text/plain": [
       "(833468, (14929, 35857))"
      ]
     },
     "execution_count": 49,
     "metadata": {},
     "output_type": "execute_result"
    }
   ],
   "source": [
    "len(xtrain_tfidf.data),xvalid_tfidf.shape"
   ]
  },
  {
   "cell_type": "code",
   "execution_count": 11,
   "metadata": {},
   "outputs": [],
   "source": [
    "def train_model(classifier, feature_vector_train, label,feature_vector_valid, is_neural_net=False):\n",
    " # fit the training dataset on the classifier\n",
    " classifier.fit(feature_vector_train, label)\n",
    " # predict the labels on validation dataset\n",
    " predictions = classifier.predict(feature_vector_valid)\n",
    " return metrics.accuracy_score(predictions, valid_y)"
   ]
  },
  {
   "cell_type": "code",
   "execution_count": 50,
   "metadata": {},
   "outputs": [
    {
     "name": "stdout",
     "output_type": "stream",
     "text": [
      "Accuracy:  0.9423270145354679\n"
     ]
    }
   ],
   "source": [
    "# Naive Bayes trainig\n",
    "accuracy = train_model(naive_bayes.MultinomialNB(alpha=0.2),\n",
    "xtrain_tfidf, train_y, xvalid_tfidf)\n",
    "print (\"Accuracy: \", accuracy)"
   ]
  },
  {
   "cell_type": "code",
   "execution_count": 51,
   "metadata": {},
   "outputs": [
    {
     "name": "stdout",
     "output_type": "stream",
     "text": [
      "Accuracy:  0.9537812311608279\n"
     ]
    }
   ],
   "source": [
    "# Linear Classifier on Word Level TF IDF Vectors\n",
    "accuracy = train_model(linear_model.LogisticRegression(),\n",
    "xtrain_tfidf, train_y, xvalid_tfidf)\n",
    "print (\"Accuracy: \", accuracy)"
   ]
  },
  {
   "cell_type": "code",
   "execution_count": 52,
   "metadata": {},
   "outputs": [
    {
     "name": "stdout",
     "output_type": "stream",
     "text": [
      "              precision    recall  f1-score   support\n",
      "\n",
      "           0       0.95      1.00      0.98     14022\n",
      "           1       0.89      0.27      0.42       907\n",
      "\n",
      "    accuracy                           0.95     14929\n",
      "   macro avg       0.92      0.64      0.70     14929\n",
      "weighted avg       0.95      0.95      0.94     14929\n",
      "\n"
     ]
    }
   ],
   "source": [
    "# Classification report\n",
    "model = linear_model.LogisticRegression().fit(xtrain_tfidf, train_y)\n",
    "print(metrics.classification_report(valid_y, model.predict(xvalid_tfidf)))"
   ]
  },
  {
   "cell_type": "code",
   "execution_count": 53,
   "metadata": {},
   "outputs": [
    {
     "name": "stdout",
     "output_type": "stream",
     "text": [
      "              precision    recall  f1-score   support\n",
      "\n",
      "           0       0.94      1.00      0.97     14022\n",
      "           1       0.71      0.09      0.16       907\n",
      "\n",
      "    accuracy                           0.94     14929\n",
      "   macro avg       0.82      0.54      0.56     14929\n",
      "weighted avg       0.93      0.94      0.92     14929\n",
      "\n"
     ]
    }
   ],
   "source": [
    "model = naive_bayes.MultinomialNB(alpha=0.2).fit(xtrain_tfidf, train_y)\n",
    "print(metrics.classification_report(valid_y, model.predict(xvalid_tfidf)))"
   ]
  },
  {
   "cell_type": "code",
   "execution_count": 54,
   "metadata": {},
   "outputs": [],
   "source": [
    "#confusion matrix\n",
    "conf_mat = metrics.confusion_matrix(valid_y, model.predict(xvalid_tfidf))"
   ]
  },
  {
   "cell_type": "code",
   "execution_count": 55,
   "metadata": {
    "scrolled": true
   },
   "outputs": [
    {
     "data": {
      "image/png": "[encoded data removed]",
      "text/plain": [
       "<Figure size 576x432 with 2 Axes>"
      ]
     },
     "metadata": {
      "needs_background": "light"
     },
     "output_type": "display_data"
    }
   ],
   "source": [
    "fig, ax = plt.subplots(figsize=(8,6))\n",
    "sns.heatmap(conf_mat, annot=True, fmt='d', cmap=\"BuPu\")\n",
    "plt.ylabel('Actual')\n",
    "plt.xlabel('Predicted')\n",
    "plt.show()"
   ]
  },
  {
   "cell_type": "code",
   "execution_count": 58,
   "metadata": {},
   "outputs": [],
   "source": [
    "# Prediction example\n",
    "texts = [\"I hate this book\"]\n",
    "text_features = tfidf_vect.transform(texts)\n",
    "predictions = model.predict(text_features)"
   ]
  },
  {
   "cell_type": "code",
   "execution_count": 59,
   "metadata": {
    "scrolled": true
   },
   "outputs": [
    {
     "data": {
      "text/plain": [
       "array([0])"
      ]
     },
     "execution_count": 59,
     "metadata": {},
     "output_type": "execute_result"
    }
   ],
   "source": [
    "predictions"
   ]
  },
  {
   "cell_type": "code",
   "execution_count": 66,
   "metadata": {},
   "outputs": [
    {
     "name": "stdout",
     "output_type": "stream",
     "text": [
      "              precision    recall  f1-score   support\n",
      "\n",
      "           0       0.94      1.00      0.97     14022\n",
      "           1       0.67      0.01      0.01       907\n",
      "\n",
      "    accuracy                           0.94     14929\n",
      "   macro avg       0.80      0.50      0.49     14929\n",
      "weighted avg       0.92      0.94      0.91     14929\n",
      "\n"
     ]
    }
   ],
   "source": [
    "from sklearn.pipeline import Pipeline\n",
    "from sklearn.feature_extraction.text import TfidfTransformer\n",
    "from sklearn.naive_bayes import MultinomialNB\n",
    "from sklearn.metrics import classification_report\n",
    "\n",
    "nb_pipe1 = Pipeline([('vect', CountVectorizer()),\n",
    "                    ('tfidf', TfidfTransformer()),\n",
    "                    ('model', MultinomialNB())])\n",
    "\n",
    "model = nb_pipe1.fit(train_x, train_y)\n",
    "\n",
    "pred  = model.predict(valid_x)\n",
    "\n",
    "print(classification_report(valid_y,\n",
    "                            pred\n",
    "                            ))"
   ]
  },
  {
   "cell_type": "code",
   "execution_count": 74,
   "metadata": {},
   "outputs": [],
   "source": [
    "# working with imbalancing\n",
    "from imblearn.pipeline       import Pipeline \n",
    "from sklearn.model_selection import cross_validate\n",
    "from imblearn.over_sampling  import RandomOverSampler\n",
    "import numpy as np\n",
    "from sklearn.metrics import precision_score\n",
    "\n",
    "nb_pipe2  = Pipeline([('vect',    CountVectorizer()),\n",
    "                     ('tfidf',   TfidfTransformer()),\n",
    "                     ('sampler', RandomOverSampler(sampling_strategy='minority',random_state=42)),\n",
    "                     ('model',   MultinomialNB())])"
   ]
  },
  {
   "cell_type": "code",
   "execution_count": 79,
   "metadata": {},
   "outputs": [
    {
     "name": "stdout",
     "output_type": "stream",
     "text": [
      "              precision    recall  f1-score   support\n",
      "\n",
      "           0       0.99      0.90      0.94     14022\n",
      "           1       0.35      0.83      0.49       907\n",
      "\n",
      "    accuracy                           0.90     14929\n",
      "   macro avg       0.67      0.86      0.72     14929\n",
      "weighted avg       0.95      0.90      0.91     14929\n",
      "\n"
     ]
    }
   ],
   "source": [
    "model = nb_pipe2.fit(train_x,train_y)\n",
    "pred  = model.predict(valid_x)\n",
    "print(classification_report(valid_y,\n",
    "                                pred))\n"
   ]
  },
  {
   "cell_type": "code",
   "execution_count": 81,
   "metadata": {},
   "outputs": [],
   "source": [
    "from imblearn.under_sampling import RandomUnderSampler\n",
    "\n",
    "nb_pipe3 = Pipeline([('vect',    CountVectorizer()),\n",
    "                     ('tfidf',   TfidfTransformer()),\n",
    "                     ('sampler', RandomUnderSampler(sampling_strategy='majority',random_state=42)),\n",
    "                     ('model',   MultinomialNB())])"
   ]
  },
  {
   "cell_type": "code",
   "execution_count": 82,
   "metadata": {},
   "outputs": [
    {
     "name": "stdout",
     "output_type": "stream",
     "text": [
      "              precision    recall  f1-score   support\n",
      "\n",
      "           0       0.99      0.82      0.90     14022\n",
      "           1       0.24      0.89      0.38       907\n",
      "\n",
      "    accuracy                           0.82     14929\n",
      "   macro avg       0.62      0.85      0.64     14929\n",
      "weighted avg       0.95      0.82      0.86     14929\n",
      "\n"
     ]
    }
   ],
   "source": [
    "model = nb_pipe3.fit(train_x,train_y)\n",
    "pred  = model.predict(valid_x)\n",
    "print(classification_report(valid_y,\n",
    "                                pred))\n"
   ]
  },
  {
   "cell_type": "code",
   "execution_count": 84,
   "metadata": {},
   "outputs": [],
   "source": [
    "\n",
    "from sklearn.svm import LinearSVC\n",
    "svm_pipe2 = Pipeline([('vect',   CountVectorizer()),\n",
    "                     ('tfidf',   TfidfTransformer()),\n",
    "                     ('sampler', RandomOverSampler('minority',random_state=42)),\n",
    "                     ('model',   LinearSVC(random_state=50))])"
   ]
  },
  {
   "cell_type": "code",
   "execution_count": 85,
   "metadata": {},
   "outputs": [
    {
     "name": "stdout",
     "output_type": "stream",
     "text": [
      "              precision    recall  f1-score   support\n",
      "\n",
      "           0       0.98      0.94      0.96     14022\n",
      "           1       0.45      0.69      0.54       907\n",
      "\n",
      "    accuracy                           0.93     14929\n",
      "   macro avg       0.71      0.82      0.75     14929\n",
      "weighted avg       0.95      0.93      0.94     14929\n",
      "\n"
     ]
    }
   ],
   "source": [
    "model = svm_pipe2.fit(train_x,train_y)\n",
    "pred  = model.predict(valid_x)\n",
    "print(classification_report(valid_y,\n",
    "                                pred))"
   ]
  },
  {
   "cell_type": "code",
   "execution_count": 87,
   "metadata": {},
   "outputs": [],
   "source": [
    "\n",
    "svm_pipe3 = Pipeline([('vect',    CountVectorizer()),\n",
    "                     ('tfidf',   TfidfTransformer()),\n",
    "                     ('model',   LinearSVC(class_weight='balanced',\n",
    "                                           random_state=50))])\n"
   ]
  },
  {
   "cell_type": "code",
   "execution_count": 88,
   "metadata": {},
   "outputs": [
    {
     "name": "stdout",
     "output_type": "stream",
     "text": [
      "              precision    recall  f1-score   support\n",
      "\n",
      "           0       0.98      0.94      0.96     14022\n",
      "           1       0.44      0.72      0.55       907\n",
      "\n",
      "    accuracy                           0.93     14929\n",
      "   macro avg       0.71      0.83      0.76     14929\n",
      "weighted avg       0.95      0.93      0.94     14929\n",
      "\n"
     ]
    }
   ],
   "source": [
    "model = svm_pipe3.fit(train_x,train_y)\n",
    "pred  = model.predict(valid_x)\n",
    "print(classification_report(valid_y,\n",
    "                                pred))"
   ]
  },
  {
   "cell_type": "code",
   "execution_count": 89,
   "metadata": {},
   "outputs": [],
   "source": [
    "y_pred = nb_pipe2.predict_proba(valid_x)"
   ]
  },
  {
   "cell_type": "code",
   "execution_count": 90,
   "metadata": {
    "scrolled": true
   },
   "outputs": [
    {
     "data": {
      "text/plain": [
       "array([[0.82706047, 0.17293953],\n",
       "       [0.79663327, 0.20336673],\n",
       "       [0.59289253, 0.40710747],\n",
       "       ...,\n",
       "       [0.72813716, 0.27186284],\n",
       "       [0.95945154, 0.04054846],\n",
       "       [0.74282543, 0.25717457]])"
      ]
     },
     "execution_count": 90,
     "metadata": {},
     "output_type": "execute_result"
    }
   ],
   "source": [
    "y_pred"
   ]
  },
  {
   "cell_type": "code",
   "execution_count": 93,
   "metadata": {},
   "outputs": [
    {
     "data": {
      "text/plain": [
       "array([0, 0, 0, ..., 0, 0, 0])"
      ]
     },
     "execution_count": 93,
     "metadata": {},
     "output_type": "execute_result"
    }
   ],
   "source": [
    "valid_y"
   ]
  },
  {
   "cell_type": "code",
   "execution_count": 94,
   "metadata": {
    "scrolled": false
   },
   "outputs": [
    {
     "data": {
      "image/png": "[encoded data removed]",
      "text/plain": [
       "<Figure size 432x288 with 1 Axes>"
      ]
     },
     "metadata": {
      "needs_background": "light"
     },
     "output_type": "display_data"
    }
   ],
   "source": [
    "metrics.plot_roc_curve(model, valid_x, valid_y) \n",
    "plt.show()                                "
   ]
  },
  {
   "cell_type": "code",
   "execution_count": 100,
   "metadata": {
    "scrolled": true
   },
   "outputs": [
    {
     "data": {
      "text/plain": [
       "array([[0.10050563, 0.89949437]])"
      ]
     },
     "execution_count": 100,
     "metadata": {},
     "output_type": "execute_result"
    }
   ],
   "source": [
    "nb_pipe2.predict_proba(['dirty book'])"
   ]
  },
  {
   "cell_type": "code",
   "execution_count": 103,
   "metadata": {},
   "outputs": [],
   "source": [
    "#confusion matrix\n",
    "conf_mat = metrics.confusion_matrix(valid_y, pred)"
   ]
  },
  {
   "cell_type": "code",
   "execution_count": 104,
   "metadata": {
    "scrolled": true
   },
   "outputs": [
    {
     "data": {
      "image/png": "[encoded data removed]",
      "text/plain": [
       "<Figure size 576x432 with 2 Axes>"
      ]
     },
     "metadata": {
      "needs_background": "light"
     },
     "output_type": "display_data"
    }
   ],
   "source": [
    "fig, ax = plt.subplots(figsize=(8,6))\n",
    "sns.heatmap(conf_mat, annot=True, fmt='d', cmap=\"BuPu\")\n",
    "plt.ylabel('Actual')\n",
    "plt.xlabel('Predicted')\n",
    "plt.show()"
   ]
  },
  {
   "cell_type": "code",
   "execution_count": 105,
   "metadata": {},
   "outputs": [],
   "source": [
    "from sklearn.ensemble import RandomForestClassifier, ExtraTreesClassifier,AdaBoostClassifier\n",
    "from sklearn.tree import DecisionTreeClassifier"
   ]
  },
  {
   "cell_type": "code",
   "execution_count": 109,
   "metadata": {},
   "outputs": [],
   "source": [
    "rfor_pipe4 = Pipeline([('vect',   CountVectorizer()),\n",
    "                     ('tfidf',   TfidfTransformer()),\n",
    "                     ('sampler', RandomOverSampler(sampling_strategy='minority',random_state=42)),\n",
    "                     ('model',   RandomForestClassifier(n_estimators=5))])"
   ]
  },
  {
   "cell_type": "code",
   "execution_count": 110,
   "metadata": {},
   "outputs": [
    {
     "name": "stdout",
     "output_type": "stream",
     "text": [
      "              precision    recall  f1-score   support\n",
      "\n",
      "           0       0.96      0.98      0.97     14022\n",
      "           1       0.53      0.38      0.44       907\n",
      "\n",
      "    accuracy                           0.94     14929\n",
      "   macro avg       0.74      0.68      0.71     14929\n",
      "weighted avg       0.93      0.94      0.94     14929\n",
      "\n"
     ]
    }
   ],
   "source": [
    "model = rfor_pipe4.fit(train_x,train_y)\n",
    "pred  = model.predict(valid_x)\n",
    "print(classification_report(valid_y,\n",
    "                                pred))"
   ]
  },
  {
   "cell_type": "code",
   "execution_count": 111,
   "metadata": {},
   "outputs": [
    {
     "name": "stdout",
     "output_type": "stream",
     "text": [
      "              precision    recall  f1-score   support\n",
      "\n",
      "           0       0.95      0.98      0.97     14022\n",
      "           1       0.53      0.27      0.36       907\n",
      "\n",
      "    accuracy                           0.94     14929\n",
      "   macro avg       0.74      0.63      0.66     14929\n",
      "weighted avg       0.93      0.94      0.93     14929\n",
      "\n"
     ]
    }
   ],
   "source": [
    "extree_pipe5 = Pipeline([('vect',   CountVectorizer()),\n",
    "                     ('tfidf',   TfidfTransformer()),\n",
    "                     ('sampler', RandomOverSampler(sampling_strategy='minority',random_state=42)),\n",
    "                     ('model',   ExtraTreesClassifier(n_estimators=5,n_jobs=4))])\n",
    "model = extree_pipe5.fit(train_x,train_y)\n",
    "pred  = model.predict(valid_x)\n",
    "print(classification_report(valid_y,\n",
    "                                pred))"
   ]
  },
  {
   "cell_type": "code",
   "execution_count": 113,
   "metadata": {},
   "outputs": [
    {
     "name": "stdout",
     "output_type": "stream",
     "text": [
      "              precision    recall  f1-score   support\n",
      "\n",
      "           0       0.98      0.61      0.76     14022\n",
      "           1       0.12      0.84      0.21       907\n",
      "\n",
      "    accuracy                           0.63     14929\n",
      "   macro avg       0.55      0.73      0.48     14929\n",
      "weighted avg       0.93      0.63      0.72     14929\n",
      "\n"
     ]
    }
   ],
   "source": [
    "ada_pipe6 = Pipeline([('vect',   CountVectorizer()),\n",
    "                     ('tfidf',   TfidfTransformer()),\n",
    "                     ('sampler', RandomOverSampler(sampling_strategy='minority',random_state=42)),\n",
    "                     ('model',   AdaBoostClassifier(DecisionTreeClassifier(max_depth=3),n_estimators=5))])\n",
    "model = ada_pipe6.fit(train_x,train_y)\n",
    "pred  = model.predict(valid_x)\n",
    "print(classification_report(valid_y,\n",
    "                                pred))"
   ]
  },
  {
   "cell_type": "code",
   "execution_count": null,
   "metadata": {},
   "outputs": [],
   "source": [
    "# Better model with pipeline rfor_pipe4 with RandomForestClassifier and RandomOverSampler with sampling_strategy='minority'."
   ]
  }
 ],
 "metadata": {
  "kernelspec": {
   "display_name": "Python 3",
   "language": "python",
   "name": "python3"
  },
  "language_info": {
   "codemirror_mode": {
    "name": "ipython",
    "version": 3
   },
   "file_extension": ".py",
   "mimetype": "text/x-python",
   "name": "python",
   "nbconvert_exporter": "python",
   "pygments_lexer": "ipython3",
   "version": "3.8.3"
  }
 },
 "nbformat": 4,
 "nbformat_minor": 4
}